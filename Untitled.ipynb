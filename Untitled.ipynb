{
  "nbformat": 4,
  "nbformat_minor": 0,
  "metadata": {
    "colab": {
      "provenance": []
    },
    "kernelspec": {
      "name": "python3",
      "display_name": "Python 3"
    },
    "language_info": {
      "name": "python"
    }
  },
  "cells": [
    {
      "cell_type": "code",
      "execution_count": 83,
      "metadata": {
        "colab": {
          "base_uri": "https://localhost:8080/"
        },
        "id": "1scJUMlWDT9a",
        "outputId": "8c988374-f3d1-4bd6-b0e6-bb4197c76bb6"
      },
      "outputs": [
        {
          "output_type": "stream",
          "name": "stdout",
          "text": [
            "Shapes of tensors:\n",
            "X_train_tensor: torch.Size([1257, 64])\n",
            "X_test_tensor: torch.Size([540, 64])\n",
            "Y_train_one_hot: torch.Size([1257, 10])\n",
            "Y_test_one_hot: torch.Size([540, 10])\n"
          ]
        }
      ],
      "source": [
        "import torch\n",
        "import torch.nn.functional as F\n",
        "from sklearn.model_selection import train_test_split\n",
        "from sklearn.datasets import load_digits\n",
        "import matplotlib.pyplot as plt\n",
        "import torch.optim as optim\n",
        "\n",
        "\n",
        "# Load the dataset\n",
        "digits = load_digits()\n",
        "X = digits.data\n",
        "Y = digits.target\n",
        "\n",
        "# Split the dataset into training and testing sets\n",
        "X_train, X_other, Y_train, Y_other = train_test_split(X, Y, test_size=0.3, random_state=42)\n",
        "\n",
        "# Convert numpy arrays to PyTorch tensors\n",
        "X_train_tensor = torch.tensor(X_train, dtype=torch.float32)\n",
        "X_test_tensor = torch.tensor(X_other, dtype=torch.float32)\n",
        "Y_train_tensor = torch.tensor(Y_train)\n",
        "Y_test_tensor = torch.tensor(Y_other)\n",
        "\n",
        "# One-hot encode the labels\n",
        "num_classes = 10  # since MNIST digits go from 0 to 9\n",
        "Y_train_one_hot = F.one_hot(Y_train_tensor, num_classes=num_classes)\n",
        "Y_test_one_hot = F.one_hot(Y_test_tensor, num_classes=num_classes)\n",
        "\n",
        "# Verify shapes of the tensors\n",
        "print(\"Shapes of tensors:\")\n",
        "print(\"X_train_tensor:\", X_train_tensor.shape)\n",
        "print(\"X_test_tensor:\", X_test_tensor.shape)\n",
        "print(\"Y_train_one_hot:\", Y_train_one_hot.shape)\n",
        "print(\"Y_test_one_hot:\", Y_test_one_hot.shape)\n"
      ]
    },
    {
      "cell_type": "code",
      "source": [
        "import torch\n",
        "import torch.nn as nn\n",
        "\n",
        "\n",
        "def softmax(x):\n",
        "    exps = torch.exp(x - torch.max(x))\n",
        "    sum_exps = torch.sum(exps, dim=1, keepdim=True)\n",
        "    return exps / sum_exps\n",
        "\n",
        "\n",
        "class SoftmaxClassifier(nn.Module):\n",
        "    def __init__(self, n_feat, n_classes):\n",
        "        super(SoftmaxClassifier, self).__init__()\n",
        "        self.linear = nn.Linear(n_feat, n_classes)\n",
        "\n",
        "    def forward(self, x):\n",
        "        a = self.linear(x)\n",
        "        p = softmax(a)\n",
        "        return p\n"
      ],
      "metadata": {
        "id": "edpaWyFRD8R9"
      },
      "execution_count": 84,
      "outputs": []
    },
    {
      "cell_type": "code",
      "source": [
        "\n",
        "\n",
        "len_traindata = len(X_train_tensor)\n",
        "X_train_tensor = torch.tensor(X_train, dtype=torch.float32)\n",
        "Y_train_tensor = torch.tensor(Y_train, dtype=torch.int64)\n",
        "\n",
        "class SimpleClassifier(nn.Module):\n",
        "    def __init__(self, input_dim, output_dim):\n",
        "        super(SimpleClassifier, self).__init__()\n",
        "        self.linear = nn.Linear(input_dim, output_dim)\n",
        "        torch.nn.init.xavier_uniform_(self.linear.weight)\n",
        "        self.linear.bias.data.fill_(0.01)\n",
        "\n",
        "    def forward(self, x):\n",
        "        x = self.linear(x)\n",
        "        return F.log_softmax(x, dim=1)\n",
        "\n",
        "# Initializing model, criterion, and optimizer\n",
        "model = SimpleClassifier(input_dim=64, output_dim=10)\n",
        "criterion = nn.CrossEntropyLoss()\n",
        "optimizer = torch.optim.SGD(model.parameters(), lr=0.01)\n",
        "\n",
        "# List to hold the losses\n",
        "losses = []\n",
        "\n",
        "# Training loop\n",
        "for epoch in range(50):\n",
        "    optimizer.zero_grad()\n",
        "    outputs = model(X_train_tensor)\n",
        "    loss = criterion(outputs, Y_train_tensor)\n",
        "    loss.backward()\n",
        "    optimizer.step()\n",
        "    losses.append(loss.item())  # Save the loss for this epoch\n",
        "    print(f'Epoch {epoch+1}, Loss: {loss.item()}')\n",
        "\n",
        "print(\"Model training is finalized!\")\n",
        "\n",
        "# Plotting the loss curve\n",
        "plt.figure(figsize=(10, 6))\n",
        "plt.plot(range(1, 51), losses, marker='o', linestyle='-', color='b')\n",
        "plt.title('Loss Curve over Epochs')\n",
        "plt.xlabel('Epoch')\n",
        "plt.ylabel('Loss')\n",
        "plt.grid(True)\n",
        "plt.show()\n",
        "\n",
        "\n"
      ],
      "metadata": {
        "colab": {
          "base_uri": "https://localhost:8080/",
          "height": 1000
        },
        "id": "YxoJ-YE0FJmN",
        "outputId": "9e535406-5c74-46e7-e61a-089419976af6"
      },
      "execution_count": 87,
      "outputs": [
        {
          "output_type": "stream",
          "name": "stdout",
          "text": [
            "Epoch 1, Loss: 19.183759689331055\n",
            "Epoch 2, Loss: 13.40483283996582\n",
            "Epoch 3, Loss: 10.71902084350586\n",
            "Epoch 4, Loss: 8.931325912475586\n",
            "Epoch 5, Loss: 7.582338333129883\n",
            "Epoch 6, Loss: 6.600069999694824\n",
            "Epoch 7, Loss: 5.843437194824219\n",
            "Epoch 8, Loss: 5.305235385894775\n",
            "Epoch 9, Loss: 4.860283851623535\n",
            "Epoch 10, Loss: 4.455652713775635\n",
            "Epoch 11, Loss: 4.089247703552246\n",
            "Epoch 12, Loss: 3.7599754333496094\n",
            "Epoch 13, Loss: 3.465888738632202\n",
            "Epoch 14, Loss: 3.2044286727905273\n",
            "Epoch 15, Loss: 2.9726946353912354\n",
            "Epoch 16, Loss: 2.7675859928131104\n",
            "Epoch 17, Loss: 2.585988998413086\n",
            "Epoch 18, Loss: 2.424945592880249\n",
            "Epoch 19, Loss: 2.2817306518554688\n",
            "Epoch 20, Loss: 2.1538963317871094\n",
            "Epoch 21, Loss: 2.0392990112304688\n",
            "Epoch 22, Loss: 1.9360941648483276\n",
            "Epoch 23, Loss: 1.8427202701568604\n",
            "Epoch 24, Loss: 1.7578647136688232\n",
            "Epoch 25, Loss: 1.6804285049438477\n",
            "Epoch 26, Loss: 1.6094897985458374\n",
            "Epoch 27, Loss: 1.5442720651626587\n",
            "Epoch 28, Loss: 1.484117031097412\n",
            "Epoch 29, Loss: 1.4284629821777344\n",
            "Epoch 30, Loss: 1.3768271207809448\n",
            "Epoch 31, Loss: 1.3287924528121948\n",
            "Epoch 32, Loss: 1.2839972972869873\n",
            "Epoch 33, Loss: 1.2421258687973022\n",
            "Epoch 34, Loss: 1.202903389930725\n",
            "Epoch 35, Loss: 1.1660879850387573\n",
            "Epoch 36, Loss: 1.1314680576324463\n",
            "Epoch 37, Loss: 1.09885573387146\n",
            "Epoch 38, Loss: 1.0680850744247437\n",
            "Epoch 39, Loss: 1.0390079021453857\n",
            "Epoch 40, Loss: 1.0114917755126953\n",
            "Epoch 41, Loss: 0.985416829586029\n",
            "Epoch 42, Loss: 0.9606758952140808\n",
            "Epoch 43, Loss: 0.9371711611747742\n",
            "Epoch 44, Loss: 0.9148139357566833\n",
            "Epoch 45, Loss: 0.893523633480072\n",
            "Epoch 46, Loss: 0.8732268214225769\n",
            "Epoch 47, Loss: 0.8538568019866943\n",
            "Epoch 48, Loss: 0.8353518843650818\n",
            "Epoch 49, Loss: 0.8176570534706116\n",
            "Epoch 50, Loss: 0.800720751285553\n",
            "Model training is finalized!\n"
          ]
        },
        {
          "output_type": "display_data",
          "data": {
            "text/plain": [
              "<Figure size 1000x600 with 1 Axes>"
            ],
            "image/png": "[encoded data removed]"
          },
          "metadata": {}
        }
      ]
    },
    {
      "cell_type": "code",
      "source": [
        "criterion = nn.CrossEntropyLoss()  # Re-initialize if not already defined\n",
        "\n",
        "model.eval()  # Set the model to evaluation mode\n",
        "test_losses = []\n",
        "with torch.no_grad():  # No need to track gradients for evaluation\n",
        "    for i in range(len(X_test_tensor)):\n",
        "        x = X_test_tensor[i].unsqueeze(0)  # Add batch dimension\n",
        "        y = Y_test_tensor[i].unsqueeze(0)  # Add batch dimension\n",
        "        y_pred = model(x)\n",
        "        loss = criterion(y_pred, y)\n",
        "        test_losses.append(loss.item())\n",
        "\n",
        "average_loss = sum(test_losses) / len(test_losses)\n",
        "print(f'Average test loss: {average_loss}')\n",
        "\n"
      ],
      "metadata": {
        "colab": {
          "base_uri": "https://localhost:8080/"
        },
        "id": "38rlJ7dVFepW",
        "outputId": "57e7f6ef-6d26-4f84-b6a2-4ab695921027"
      },
      "execution_count": 88,
      "outputs": [
        {
          "output_type": "stream",
          "name": "stdout",
          "text": [
            "Average test loss: 0.7153203919130284\n"
          ]
        }
      ]
    }
  ]
}